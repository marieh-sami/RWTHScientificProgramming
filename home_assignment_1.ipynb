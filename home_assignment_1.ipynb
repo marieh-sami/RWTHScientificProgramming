{
 "cells": [
  {
   "cell_type": "markdown",
   "metadata": {},
   "source": [
    "# Python - Assignment 1\n",
    "\n",
    "<font color='red'>\n",
    "\n",
    "## Formalities\n",
    "**Submit in a group of 3 students until 14th of December 23.59CET. The deadline is strict!**\n",
    "\n",
    "## Evaluation and Grading\n",
    "**general advice for programming excercises at CSSH**\n",
    "\n",
    "Evaluation of your submission is done semi automatically. Think of it as this notebook being\n",
    "executed once. Afterwards, some test functions are appended to this file and executed respectively.\n",
    "\n",
    "Therefore:\n",
    "* Submit valid _Python3_ code only!\n",
    "* Use external libraries only when specified by task.\n",
    "* Ensure your definitions (functions, classes, methods, variables) follow the specification if\n",
    "  given. The concrete signature of e.g. a function usually can be inferred from task description,\n",
    "  code skeletons and test cases.\n",
    "* Ensure the notebook does not rely on current notebook or system state!\n",
    "  * Use `Kernel --> Restart & Run All` to see if you are using any definitions, variables etc. that\n",
    "    are not in scope anymore.\n",
    "  * Double check if your code relies on presence of files or directories other than those mentioned\n",
    "    in given tasks. Tests run under Linux, hence don't use Windows style paths\n",
    "    (`some\\path`, `C:\\another\\path`). Also, use paths only that are relative to and within your\n",
    "    working directory (OK: `some/path`, `./some/path`; NOT OK: `/home/alice/python`,\n",
    "    `../../python`).\n",
    "* Keep your code idempotent! Running it or parts of it multiple times must not yield different\n",
    "  results. Minimize usage of global variables.\n",
    "* Ensure your code / notebook terminates in reasonable time.\n",
    "\n",
    "**There's a story behind each of these points! Don't expect us to fix your stuff!**\n",
    "\n",
    "</font>"
   ]
  },
  {
   "cell_type": "code",
   "execution_count": 1,
   "metadata": {},
   "outputs": [],
   "source": [
    "# credentials of all team members (you may add or remove items from the list)\n",
    "team_members = [\n",
    "    {\n",
    "        'first_name': 'Monireh',\n",
    "        'last_name': 'Sami',\n",
    "        'student_id': 404100\n",
    "    },\n",
    "    {\n",
    "        'first_name': 'Bob',\n",
    "        'last_name': 'Bar',\n",
    "        'student_id': 54321\n",
    "    }\n",
    "]"
   ]
  },
  {
   "cell_type": "markdown",
   "metadata": {
    "pycharm": {
     "name": "#%% md\n"
    }
   },
   "source": [
    "**we use type hints to make your life easier ;)**"
   ]
  },
  {
   "cell_type": "code",
   "execution_count": null,
   "metadata": {
    "pycharm": {
     "name": "#%%\n"
    }
   },
   "outputs": [],
   "source": [
    "from typing import Dict, List, Optional"
   ]
  },
  {
   "cell_type": "markdown",
   "metadata": {},
   "source": [
    "# 1. Parentheses check\n",
    "Write a function that takes an expression as input and checks whether the parentheses are balanced. \n",
    "`{(([]))}` is a valid expression. `{{(})}}`, `{(}`, `{]` are not valid expressions. Your function \n",
    "should output True or False based on the validity of the expression. "
   ]
  },
  {
   "cell_type": "code",
   "execution_count": null,
   "metadata": {},
   "outputs": [],
   "source": [
    "def parentheses_valid(s: str) -> bool:\n",
    "    raise NotImplementedError('implement me!')"
   ]
  },
  {
   "cell_type": "markdown",
   "metadata": {
    "pycharm": {
     "name": "#%% md\n"
    }
   },
   "source": [
    "**example usage**"
   ]
  },
  {
   "cell_type": "code",
   "execution_count": null,
   "metadata": {
    "pycharm": {
     "name": "#%%\n"
    }
   },
   "outputs": [],
   "source": [
    "assert parentheses_valid('()[]') == True\n",
    "assert parentheses_valid('([)]') == False"
   ]
  },
  {
   "cell_type": "markdown",
   "metadata": {},
   "source": [
    "# 2. Count words\n",
    "Write a function that counts the number of occurrences of each word given in a file. Your output \n",
    "should print each word and its corresponding frequency. "
   ]
  },
  {
   "cell_type": "code",
   "execution_count": null,
   "metadata": {},
   "outputs": [],
   "source": [
    "def count_words (filename: str) -> Dict[str, int]:\n",
    "    raise NotImplementedError('implement me!')"
   ]
  },
  {
   "cell_type": "markdown",
   "metadata": {
    "pycharm": {
     "name": "#%% md\n"
    }
   },
   "source": [
    "**example usage**"
   ]
  },
  {
   "cell_type": "code",
   "execution_count": null,
   "metadata": {
    "pycharm": {
     "name": "#%%\n"
    }
   },
   "outputs": [],
   "source": [
    "from tempfile import NamedTemporaryFile\n",
    "with NamedTemporaryFile(mode='r+t') as tempfile:\n",
    "    # populate temporary test file with data\n",
    "    tempfile.write('foo bar fnord\\nfoo\\tbar\\nfoo\\n')\n",
    "    \n",
    "    # count words in file for testing\n",
    "    tempfile.seek(0)\n",
    "    assert count_words(tempfile.name) == {'foo': 3, 'bar': 2, 'fnord': 1}"
   ]
  },
  {
   "cell_type": "markdown",
   "metadata": {},
   "source": [
    "# 3. k-th largest element\n",
    "Write a function to find the _k_-th largest element in a list. Your are not allowed to use \n",
    "`list.sort()`! Be aware of potential border cases."
   ]
  },
  {
   "cell_type": "code",
   "execution_count": null,
   "metadata": {},
   "outputs": [],
   "source": [
    "def k_th_largest_element (l: List[int], k: int) -> Optional[int]:\n",
    "    raise NotImplementedError('implement me!')"
   ]
  },
  {
   "cell_type": "markdown",
   "metadata": {
    "pycharm": {
     "name": "#%% md\n"
    }
   },
   "source": [
    "**example usage**"
   ]
  },
  {
   "cell_type": "code",
   "execution_count": null,
   "metadata": {
    "pycharm": {
     "name": "#%%\n"
    }
   },
   "outputs": [],
   "source": [
    "l = [2,4,5,2,6,3]\n",
    "assert k_th_largest_element(l, 2) == 5"
   ]
  },
  {
   "cell_type": "markdown",
   "metadata": {},
   "source": [
    "# 4. Prime factorization\n",
    "Write a function that takes as input a number and outputs all the prime factors of the number.\n",
    "Your function should output a dictionary with all the prime factors as keys and their corresponding \n",
    "orders as values."
   ]
  },
  {
   "cell_type": "code",
   "execution_count": null,
   "metadata": {},
   "outputs": [],
   "source": [
    "def prime_factors(k: int) -> Dict[int: int]:\n",
    "    raise NotImplementedError('implement me!')"
   ]
  },
  {
   "cell_type": "markdown",
   "metadata": {
    "pycharm": {
     "name": "#%% md\n"
    }
   },
   "source": [
    "**example usage**"
   ]
  },
  {
   "cell_type": "code",
   "execution_count": null,
   "metadata": {
    "pycharm": {
     "name": "#%%\n"
    }
   },
   "outputs": [],
   "source": [
    "assert prime_factors(9) == {3: 2}\n",
    "assert prime_factors(12) == {3: 1, 2: 2}"
   ]
  },
  {
   "cell_type": "markdown",
   "metadata": {},
   "source": [
    "# 5. Poker\n",
    "Calculate the score/rank of a poker hand.\n",
    "To determine the rank/score of the a poker hand, see [fgbradleys.com](https://www.fgbradleys.com/et_poker.asp) (Royal flush = rank 1, ... High Card = rank 10).\n",
    "Your function should take a poker hand (a set of 5 cards) as input and return the corresponding score or rank.\n",
    "\n",
    "Consider a card as a tuple (suit, number) and a deck as a list of cards.\n",
    "It is advisable to write separate functions for each rank like Royal Flush or High card.\n",
    "But the final score shall be returned by the given `get_score` method."
   ]
  },
  {
   "cell_type": "code",
   "execution_count": null,
   "metadata": {},
   "outputs": [],
   "source": [
    "def get_score(hand: List[int]) -> int:\n",
    "    raise NotImplementedError('implement me!')"
   ]
  },
  {
   "cell_type": "markdown",
   "metadata": {
    "pycharm": {
     "name": "#%% md\n"
    }
   },
   "source": [
    "**example usage**"
   ]
  },
  {
   "cell_type": "code",
   "execution_count": null,
   "metadata": {
    "pycharm": {
     "name": "#%%\n"
    }
   },
   "outputs": [],
   "source": [
    "import random\n",
    "suits = ['spades', 'diamonds', 'clubs', 'hearts']\n",
    "values = [2, 3, 4, 5, 6, 7, 8, 9, 10, 11, 12, 13, 14]\n",
    "\n",
    "# deck\n",
    "cards = [(s, v) for s in suits for v in values]\n",
    "\n",
    "# shuffle cards in a deterministic way\n",
    "random.seed(42)\n",
    "random.shuffle(cards)\n",
    "\n",
    "# deal the cards\n",
    "poker_round = {\n",
    "    'player1': cards[:5],\n",
    "    'player2': cards[5:10],\n",
    "    'player3': cards[10:15],\n",
    "}\n",
    "\n",
    "for player, hand in poker_round:\n",
    "    print(f'{player}: {hand}')\n",
    "\n",
    "# assess hands\n",
    "scores = {p: get_score(h) for p, h in poker_round.items()}\n",
    "\n",
    "# test\n",
    "assert scores == {'player1': 1, 'player2': 1, 'player3': 2}"
   ]
  }
 ],
 "metadata": {
  "kernel_info": {
   "name": "python3"
  },
  "kernelspec": {
   "display_name": "Python 3",
   "language": "python",
   "name": "python3"
  },
  "language_info": {
   "codemirror_mode": {
    "name": "ipython",
    "version": 3
   },
   "file_extension": ".py",
   "mimetype": "text/x-python",
   "name": "python",
   "nbconvert_exporter": "python",
   "pygments_lexer": "ipython3",
   "version": "3.7.7"
  },
  "nteract": {
   "version": "0.15.0"
  }
 },
 "nbformat": 4,
 "nbformat_minor": 2
}
